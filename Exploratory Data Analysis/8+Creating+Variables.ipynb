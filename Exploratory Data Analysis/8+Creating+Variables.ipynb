{
 "cells": [
  {
   "cell_type": "markdown",
   "metadata": {},
   "source": [
    "# 8. Creating Variables"
   ]
  },
  {
   "cell_type": "code",
   "execution_count": null,
   "metadata": {
    "collapsed": false
   },
   "outputs": [],
   "source": [
    "import pandas as pd"
   ]
  },
  {
   "cell_type": "code",
   "execution_count": null,
   "metadata": {
    "collapsed": false
   },
   "outputs": [],
   "source": [
    "df = pd.read_csv('train.csv')"
   ]
  },
  {
   "cell_type": "markdown",
   "metadata": {},
   "source": [
    "### Dummy variables"
   ]
  },
  {
   "cell_type": "markdown",
   "metadata": {},
   "source": [
    "So far we have addressed numerical variables. Suppose that we want to use a fast regression algorithm on this data, the data would need to be all in a numerical form the form, so how can we include categorical values?\n",
    "\n",
    "If there are just two labels or of the values are ordinal (there is a natural order in the labels e.g. child, teen, adult), we have the option to replace the labels with numbers like we did for PavedDrive. \n",
    "\n",
    "However, if the values are on a nominal scale (i.e. there is no order in the labels) then simply converting them to numbers is not suitable for learning regression. For example ‘BldgType’ can be one of five possible values: ‘1Fam’, ‘2fmCon’, ‘Duplex’, ‘TwnhsE’, or  ‘Twnhs’. The solution is to create a column for each value, for example ‘BldgType_1Fam’, with values 0,1 depending on whether the data point has that value.\n",
    "\n",
    "For this purpose, pandas has the function `get_dummies` that will replace nominal variables with dummy variables."
   ]
  },
  {
   "cell_type": "code",
   "execution_count": null,
   "metadata": {
    "collapsed": false
   },
   "outputs": [],
   "source": [
    "df = pd.get_dummies(df)"
   ]
  },
  {
   "cell_type": "markdown",
   "metadata": {},
   "source": [
    "For example, look at the first 20 entries for BldgType_1Fam"
   ]
  },
  {
   "cell_type": "code",
   "execution_count": null,
   "metadata": {
    "collapsed": false
   },
   "outputs": [],
   "source": [
    "df.BldgType_1Fam[:20]"
   ]
  },
  {
   "cell_type": "code",
   "execution_count": null,
   "metadata": {
    "collapsed": true
   },
   "outputs": [],
   "source": []
  }
 ],
 "metadata": {
  "kernelspec": {
   "display_name": "Python 3",
   "language": "python",
   "name": "python3"
  },
  "language_info": {
   "codemirror_mode": {
    "name": "ipython",
    "version": 3
   },
   "file_extension": ".py",
   "mimetype": "text/x-python",
   "name": "python",
   "nbconvert_exporter": "python",
   "pygments_lexer": "ipython3",
   "version": "3.5.2"
  }
 },
 "nbformat": 4,
 "nbformat_minor": 2
}
